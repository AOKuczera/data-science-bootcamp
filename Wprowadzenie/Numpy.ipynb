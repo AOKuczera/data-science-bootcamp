{
  "nbformat": 4,
  "nbformat_minor": 0,
  "metadata": {
    "colab": {
      "name": "Numpy.ipynb",
      "provenance": [],
      "collapsed_sections": [],
      "authorship_tag": "ABX9TyN9NFSOpJXjk/BdOy60XESu",
      "include_colab_link": true
    },
    "kernelspec": {
      "name": "python3",
      "display_name": "Python 3"
    },
    "language_info": {
      "name": "python"
    }
  },
  "cells": [
    {
      "cell_type": "markdown",
      "metadata": {
        "id": "view-in-github",
        "colab_type": "text"
      },
      "source": [
        "<a href=\"https://colab.research.google.com/github/AOKuczera/data-science-bootcamp/blob/main/Wprowadzenie/Numpy.ipynb\" target=\"_parent\"><img src=\"https://colab.research.google.com/assets/colab-badge.svg\" alt=\"Open In Colab\"/></a>"
      ]
    },
    {
      "cell_type": "markdown",
      "metadata": {
        "id": "jNoa_qL9dqME"
      },
      "source": [
        "## Instalacja \n"
      ]
    },
    {
      "cell_type": "code",
      "metadata": {
        "colab": {
          "base_uri": "https://localhost:8080/"
        },
        "id": "l4i96PbedXXH",
        "outputId": "cf1822bb-3b8a-4b50-ba2f-e4358e16b563"
      },
      "source": [
        "pip install numpy \n"
      ],
      "execution_count": 1,
      "outputs": [
        {
          "output_type": "stream",
          "name": "stdout",
          "text": [
            "Requirement already satisfied: numpy in /usr/local/lib/python3.7/dist-packages (1.19.5)\n"
          ]
        }
      ]
    },
    {
      "cell_type": "code",
      "metadata": {
        "colab": {
          "base_uri": "https://localhost:8080/",
          "height": 35
        },
        "id": "ARalTqs9daG0",
        "outputId": "adbada56-0e1b-4877-f9d3-a16cf5760819"
      },
      "source": [
        "import numpy as np\n",
        "np.__version__"
      ],
      "execution_count": 3,
      "outputs": [
        {
          "output_type": "execute_result",
          "data": {
            "application/vnd.google.colaboratory.intrinsic+json": {
              "type": "string"
            },
            "text/plain": [
              "'1.19.5'"
            ]
          },
          "metadata": {},
          "execution_count": 3
        }
      ]
    },
    {
      "cell_type": "code",
      "metadata": {
        "id": "uRbo65nveVbr",
        "colab": {
          "base_uri": "https://localhost:8080/"
        },
        "outputId": "16fa4910-1b71-4194-dc6f-63c95b7b3be9"
      },
      "source": [
        "print(dir(np))"
      ],
      "execution_count": null,
      "outputs": [
        {
          "output_type": "stream",
          "text": [
            "['ALLOW_THREADS', 'AxisError', 'BUFSIZE', 'CLIP', 'ComplexWarning', 'DataSource', 'ERR_CALL', 'ERR_DEFAULT', 'ERR_IGNORE', 'ERR_LOG', 'ERR_PRINT', 'ERR_RAISE', 'ERR_WARN', 'FLOATING_POINT_SUPPORT', 'FPE_DIVIDEBYZERO', 'FPE_INVALID', 'FPE_OVERFLOW', 'FPE_UNDERFLOW', 'False_', 'Inf', 'Infinity', 'MAXDIMS', 'MAY_SHARE_BOUNDS', 'MAY_SHARE_EXACT', 'MachAr', 'ModuleDeprecationWarning', 'NAN', 'NINF', 'NZERO', 'NaN', 'PINF', 'PZERO', 'RAISE', 'RankWarning', 'SHIFT_DIVIDEBYZERO', 'SHIFT_INVALID', 'SHIFT_OVERFLOW', 'SHIFT_UNDERFLOW', 'ScalarType', 'Tester', 'TooHardError', 'True_', 'UFUNC_BUFSIZE_DEFAULT', 'UFUNC_PYVALS_NAME', 'VisibleDeprecationWarning', 'WRAP', '_NoValue', '_UFUNC_API', '__NUMPY_SETUP__', '__all__', '__builtins__', '__cached__', '__config__', '__dir__', '__doc__', '__file__', '__getattr__', '__git_revision__', '__loader__', '__name__', '__package__', '__path__', '__spec__', '__version__', '_add_newdoc_ufunc', '_distributor_init', '_globals', '_mat', '_pytesttester', 'abs', 'absolute', 'add', 'add_docstring', 'add_newdoc', 'add_newdoc_ufunc', 'alen', 'all', 'allclose', 'alltrue', 'amax', 'amin', 'angle', 'any', 'append', 'apply_along_axis', 'apply_over_axes', 'arange', 'arccos', 'arccosh', 'arcsin', 'arcsinh', 'arctan', 'arctan2', 'arctanh', 'argmax', 'argmin', 'argpartition', 'argsort', 'argwhere', 'around', 'array', 'array2string', 'array_equal', 'array_equiv', 'array_repr', 'array_split', 'array_str', 'asanyarray', 'asarray', 'asarray_chkfinite', 'ascontiguousarray', 'asfarray', 'asfortranarray', 'asmatrix', 'asscalar', 'atleast_1d', 'atleast_2d', 'atleast_3d', 'average', 'bartlett', 'base_repr', 'binary_repr', 'bincount', 'bitwise_and', 'bitwise_not', 'bitwise_or', 'bitwise_xor', 'blackman', 'block', 'bmat', 'bool', 'bool8', 'bool_', 'broadcast', 'broadcast_arrays', 'broadcast_to', 'busday_count', 'busday_offset', 'busdaycalendar', 'byte', 'byte_bounds', 'bytes0', 'bytes_', 'c_', 'can_cast', 'cast', 'cbrt', 'cdouble', 'ceil', 'cfloat', 'char', 'character', 'chararray', 'choose', 'clip', 'clongdouble', 'clongfloat', 'column_stack', 'common_type', 'compare_chararrays', 'compat', 'complex', 'complex128', 'complex256', 'complex64', 'complex_', 'complexfloating', 'compress', 'concatenate', 'conj', 'conjugate', 'convolve', 'copy', 'copysign', 'copyto', 'core', 'corrcoef', 'correlate', 'cos', 'cosh', 'count_nonzero', 'cov', 'cross', 'csingle', 'ctypeslib', 'cumprod', 'cumproduct', 'cumsum', 'datetime64', 'datetime_as_string', 'datetime_data', 'deg2rad', 'degrees', 'delete', 'deprecate', 'deprecate_with_doc', 'diag', 'diag_indices', 'diag_indices_from', 'diagflat', 'diagonal', 'diff', 'digitize', 'disp', 'divide', 'divmod', 'dot', 'double', 'dsplit', 'dstack', 'dtype', 'e', 'ediff1d', 'einsum', 'einsum_path', 'emath', 'empty', 'empty_like', 'equal', 'errstate', 'euler_gamma', 'exp', 'exp2', 'expand_dims', 'expm1', 'extract', 'eye', 'fabs', 'fastCopyAndTranspose', 'fft', 'fill_diagonal', 'find_common_type', 'finfo', 'fix', 'flatiter', 'flatnonzero', 'flexible', 'flip', 'fliplr', 'flipud', 'float', 'float128', 'float16', 'float32', 'float64', 'float_', 'float_power', 'floating', 'floor', 'floor_divide', 'fmax', 'fmin', 'fmod', 'format_float_positional', 'format_float_scientific', 'format_parser', 'frexp', 'frombuffer', 'fromfile', 'fromfunction', 'fromiter', 'frompyfunc', 'fromregex', 'fromstring', 'full', 'full_like', 'fv', 'gcd', 'generic', 'genfromtxt', 'geomspace', 'get_array_wrap', 'get_include', 'get_printoptions', 'getbufsize', 'geterr', 'geterrcall', 'geterrobj', 'gradient', 'greater', 'greater_equal', 'half', 'hamming', 'hanning', 'heaviside', 'histogram', 'histogram2d', 'histogram_bin_edges', 'histogramdd', 'hsplit', 'hstack', 'hypot', 'i0', 'identity', 'iinfo', 'imag', 'in1d', 'index_exp', 'indices', 'inexact', 'inf', 'info', 'infty', 'inner', 'insert', 'int', 'int0', 'int16', 'int32', 'int64', 'int8', 'int_', 'intc', 'integer', 'interp', 'intersect1d', 'intp', 'invert', 'ipmt', 'irr', 'is_busday', 'isclose', 'iscomplex', 'iscomplexobj', 'isfinite', 'isfortran', 'isin', 'isinf', 'isnan', 'isnat', 'isneginf', 'isposinf', 'isreal', 'isrealobj', 'isscalar', 'issctype', 'issubclass_', 'issubdtype', 'issubsctype', 'iterable', 'ix_', 'kaiser', 'kernel_version', 'kron', 'lcm', 'ldexp', 'left_shift', 'less', 'less_equal', 'lexsort', 'lib', 'linalg', 'linspace', 'little_endian', 'load', 'loads', 'loadtxt', 'log', 'log10', 'log1p', 'log2', 'logaddexp', 'logaddexp2', 'logical_and', 'logical_not', 'logical_or', 'logical_xor', 'logspace', 'long', 'longcomplex', 'longdouble', 'longfloat', 'longlong', 'lookfor', 'ma', 'mafromtxt', 'mask_indices', 'mat', 'math', 'matmul', 'matrix', 'matrixlib', 'max', 'maximum', 'maximum_sctype', 'may_share_memory', 'mean', 'median', 'memmap', 'meshgrid', 'mgrid', 'min', 'min_scalar_type', 'minimum', 'mintypecode', 'mirr', 'mod', 'modf', 'moveaxis', 'msort', 'multiply', 'nan', 'nan_to_num', 'nanargmax', 'nanargmin', 'nancumprod', 'nancumsum', 'nanmax', 'nanmean', 'nanmedian', 'nanmin', 'nanpercentile', 'nanprod', 'nanquantile', 'nanstd', 'nansum', 'nanvar', 'nbytes', 'ndarray', 'ndenumerate', 'ndfromtxt', 'ndim', 'ndindex', 'nditer', 'negative', 'nested_iters', 'newaxis', 'nextafter', 'nonzero', 'not_equal', 'nper', 'npv', 'numarray', 'number', 'obj2sctype', 'object', 'object0', 'object_', 'ogrid', 'oldnumeric', 'ones', 'ones_like', 'os', 'outer', 'packbits', 'pad', 'partition', 'percentile', 'pi', 'piecewise', 'place', 'pmt', 'poly', 'poly1d', 'polyadd', 'polyder', 'polydiv', 'polyfit', 'polyint', 'polymul', 'polynomial', 'polysub', 'polyval', 'positive', 'power', 'ppmt', 'printoptions', 'prod', 'product', 'promote_types', 'ptp', 'put', 'put_along_axis', 'putmask', 'pv', 'quantile', 'r_', 'rad2deg', 'radians', 'random', 'rate', 'ravel', 'ravel_multi_index', 'real', 'real_if_close', 'rec', 'recarray', 'recfromcsv', 'recfromtxt', 'reciprocal', 'record', 'remainder', 'repeat', 'require', 'reshape', 'resize', 'result_type', 'right_shift', 'rint', 'roll', 'rollaxis', 'roots', 'rot90', 'round', 'round_', 'row_stack', 's_', 'safe_eval', 'save', 'savetxt', 'savez', 'savez_compressed', 'sctype2char', 'sctypeDict', 'sctypeNA', 'sctypes', 'searchsorted', 'select', 'set_numeric_ops', 'set_printoptions', 'set_string_function', 'setbufsize', 'setdiff1d', 'seterr', 'seterrcall', 'seterrobj', 'setxor1d', 'shape', 'shares_memory', 'short', 'show_config', 'sign', 'signbit', 'signedinteger', 'sin', 'sinc', 'single', 'singlecomplex', 'sinh', 'size', 'sometrue', 'sort', 'sort_complex', 'source', 'spacing', 'split', 'sqrt', 'square', 'squeeze', 'stack', 'std', 'str', 'str0', 'str_', 'string_', 'subtract', 'sum', 'swapaxes', 'sys', 'take', 'take_along_axis', 'tan', 'tanh', 'tensordot', 'test', 'testing', 'tile', 'timedelta64', 'trace', 'tracemalloc_domain', 'transpose', 'trapz', 'tri', 'tril', 'tril_indices', 'tril_indices_from', 'trim_zeros', 'triu', 'triu_indices', 'triu_indices_from', 'true_divide', 'trunc', 'typeDict', 'typeNA', 'typecodes', 'typename', 'ubyte', 'ufunc', 'uint', 'uint0', 'uint16', 'uint32', 'uint64', 'uint8', 'uintc', 'uintp', 'ulonglong', 'unicode', 'unicode_', 'union1d', 'unique', 'unpackbits', 'unravel_index', 'unsignedinteger', 'unwrap', 'use_hugepage', 'ushort', 'vander', 'var', 'vdot', 'vectorize', 'version', 'void', 'void0', 'vsplit', 'vstack', 'warnings', 'where', 'who', 'zeros', 'zeros_like']\n"
          ],
          "name": "stdout"
        }
      ]
    },
    {
      "cell_type": "code",
      "metadata": {
        "id": "A5tPG5iaeqdA",
        "colab": {
          "base_uri": "https://localhost:8080/"
        },
        "outputId": "d58d3be6-bd3b-4f84-8f4a-4842372bea15"
      },
      "source": [
        "help(np.array)"
      ],
      "execution_count": null,
      "outputs": [
        {
          "output_type": "stream",
          "text": [
            "Help on built-in function array in module numpy:\n",
            "\n",
            "array(...)\n",
            "    array(object, dtype=None, *, copy=True, order='K', subok=False, ndmin=0)\n",
            "    \n",
            "    Create an array.\n",
            "    \n",
            "    Parameters\n",
            "    ----------\n",
            "    object : array_like\n",
            "        An array, any object exposing the array interface, an object whose\n",
            "        __array__ method returns an array, or any (nested) sequence.\n",
            "    dtype : data-type, optional\n",
            "        The desired data-type for the array.  If not given, then the type will\n",
            "        be determined as the minimum type required to hold the objects in the\n",
            "        sequence.\n",
            "    copy : bool, optional\n",
            "        If true (default), then the object is copied.  Otherwise, a copy will\n",
            "        only be made if __array__ returns a copy, if obj is a nested sequence,\n",
            "        or if a copy is needed to satisfy any of the other requirements\n",
            "        (`dtype`, `order`, etc.).\n",
            "    order : {'K', 'A', 'C', 'F'}, optional\n",
            "        Specify the memory layout of the array. If object is not an array, the\n",
            "        newly created array will be in C order (row major) unless 'F' is\n",
            "        specified, in which case it will be in Fortran order (column major).\n",
            "        If object is an array the following holds.\n",
            "    \n",
            "        ===== ========= ===================================================\n",
            "        order  no copy                     copy=True\n",
            "        ===== ========= ===================================================\n",
            "        'K'   unchanged F & C order preserved, otherwise most similar order\n",
            "        'A'   unchanged F order if input is F and not C, otherwise C order\n",
            "        'C'   C order   C order\n",
            "        'F'   F order   F order\n",
            "        ===== ========= ===================================================\n",
            "    \n",
            "        When ``copy=False`` and a copy is made for other reasons, the result is\n",
            "        the same as if ``copy=True``, with some exceptions for `A`, see the\n",
            "        Notes section. The default order is 'K'.\n",
            "    subok : bool, optional\n",
            "        If True, then sub-classes will be passed-through, otherwise\n",
            "        the returned array will be forced to be a base-class array (default).\n",
            "    ndmin : int, optional\n",
            "        Specifies the minimum number of dimensions that the resulting\n",
            "        array should have.  Ones will be pre-pended to the shape as\n",
            "        needed to meet this requirement.\n",
            "    \n",
            "    Returns\n",
            "    -------\n",
            "    out : ndarray\n",
            "        An array object satisfying the specified requirements.\n",
            "    \n",
            "    See Also\n",
            "    --------\n",
            "    empty_like : Return an empty array with shape and type of input.\n",
            "    ones_like : Return an array of ones with shape and type of input.\n",
            "    zeros_like : Return an array of zeros with shape and type of input.\n",
            "    full_like : Return a new array with shape of input filled with value.\n",
            "    empty : Return a new uninitialized array.\n",
            "    ones : Return a new array setting values to one.\n",
            "    zeros : Return a new array setting values to zero.\n",
            "    full : Return a new array of given shape filled with value.\n",
            "    \n",
            "    \n",
            "    Notes\n",
            "    -----\n",
            "    When order is 'A' and `object` is an array in neither 'C' nor 'F' order,\n",
            "    and a copy is forced by a change in dtype, then the order of the result is\n",
            "    not necessarily 'C' as expected. This is likely a bug.\n",
            "    \n",
            "    Examples\n",
            "    --------\n",
            "    >>> np.array([1, 2, 3])\n",
            "    array([1, 2, 3])\n",
            "    \n",
            "    Upcasting:\n",
            "    \n",
            "    >>> np.array([1, 2, 3.0])\n",
            "    array([ 1.,  2.,  3.])\n",
            "    \n",
            "    More than one dimension:\n",
            "    \n",
            "    >>> np.array([[1, 2], [3, 4]])\n",
            "    array([[1, 2],\n",
            "           [3, 4]])\n",
            "    \n",
            "    Minimum dimensions 2:\n",
            "    \n",
            "    >>> np.array([1, 2, 3], ndmin=2)\n",
            "    array([[1, 2, 3]])\n",
            "    \n",
            "    Type provided:\n",
            "    \n",
            "    >>> np.array([1, 2, 3], dtype=complex)\n",
            "    array([ 1.+0.j,  2.+0.j,  3.+0.j])\n",
            "    \n",
            "    Data-type consisting of more than one element:\n",
            "    \n",
            "    >>> x = np.array([(1,2),(3,4)],dtype=[('a','<i4'),('b','<i4')])\n",
            "    >>> x['a']\n",
            "    array([1, 3])\n",
            "    \n",
            "    Creating an array from sub-classes:\n",
            "    \n",
            "    >>> np.array(np.mat('1 2; 3 4'))\n",
            "    array([[1, 2],\n",
            "           [3, 4]])\n",
            "    \n",
            "    >>> np.array(np.mat('1 2; 3 4'), subok=True)\n",
            "    matrix([[1, 2],\n",
            "            [3, 4]])\n",
            "\n"
          ],
          "name": "stdout"
        }
      ]
    },
    {
      "cell_type": "code",
      "metadata": {
        "colab": {
          "base_uri": "https://localhost:8080/"
        },
        "id": "YpsGtEDfepDe",
        "outputId": "78531219-5a15-40bc-f1bc-7dddff0d6ec1"
      },
      "source": [
        "### 1D Array \n",
        "x = np.array([[1],[3]])\n",
        "x"
      ],
      "execution_count": null,
      "outputs": [
        {
          "output_type": "execute_result",
          "data": {
            "text/plain": [
              "array([[1],\n",
              "       [3]])"
            ]
          },
          "metadata": {},
          "execution_count": 5
        }
      ]
    },
    {
      "cell_type": "code",
      "metadata": {
        "colab": {
          "base_uri": "https://localhost:8080/"
        },
        "id": "B78Np0EnfL62",
        "outputId": "e12c05f2-a554-49df-a029-90aef8cf8115"
      },
      "source": [
        "print(x)"
      ],
      "execution_count": null,
      "outputs": [
        {
          "output_type": "stream",
          "text": [
            "[[1]\n",
            " [3]]\n"
          ],
          "name": "stdout"
        }
      ]
    },
    {
      "cell_type": "code",
      "metadata": {
        "colab": {
          "base_uri": "https://localhost:8080/"
        },
        "id": "5VB5Q0ppfR85",
        "outputId": "73ad5895-3086-4f02-e11b-65f64df0c67d"
      },
      "source": [
        "type(x) #typ"
      ],
      "execution_count": null,
      "outputs": [
        {
          "output_type": "execute_result",
          "data": {
            "text/plain": [
              "numpy.ndarray"
            ]
          },
          "metadata": {},
          "execution_count": 7
        }
      ]
    },
    {
      "cell_type": "code",
      "metadata": {
        "id": "igCHoW5Jfnfu"
      },
      "source": [
        "# An ndarray is a (usually fixed-size) multidimensional container of items of the same type and size"
      ],
      "execution_count": null,
      "outputs": []
    },
    {
      "cell_type": "markdown",
      "metadata": {
        "id": "pLSl2ZbhdpoH"
      },
      "source": [
        ""
      ]
    },
    {
      "cell_type": "code",
      "metadata": {
        "colab": {
          "base_uri": "https://localhost:8080/"
        },
        "id": "kv5UnnwFfizz",
        "outputId": "b05a5247-d222-4151-b766-693c501094b6"
      },
      "source": [
        "#ndim - wymiar \n",
        "x.ndim"
      ],
      "execution_count": null,
      "outputs": [
        {
          "output_type": "execute_result",
          "data": {
            "text/plain": [
              "2"
            ]
          },
          "metadata": {},
          "execution_count": 9
        }
      ]
    },
    {
      "cell_type": "code",
      "metadata": {
        "colab": {
          "base_uri": "https://localhost:8080/"
        },
        "id": "qnusc2Rmfwvy",
        "outputId": "20534b8f-3d76-4d36-877a-b9f4bc6c79c4"
      },
      "source": [
        "#shape - kształt (wiersze, kolumny)\n",
        "x.shape"
      ],
      "execution_count": null,
      "outputs": [
        {
          "output_type": "execute_result",
          "data": {
            "text/plain": [
              "(2, 1)"
            ]
          },
          "metadata": {},
          "execution_count": 10
        }
      ]
    },
    {
      "cell_type": "code",
      "metadata": {
        "colab": {
          "base_uri": "https://localhost:8080/"
        },
        "id": "k7K8jd0yf23i",
        "outputId": "20c0da6e-9532-4e74-fde8-60509852a690"
      },
      "source": [
        "\n",
        "# x.size - liczba elementów\n",
        "x.size"
      ],
      "execution_count": null,
      "outputs": [
        {
          "output_type": "execute_result",
          "data": {
            "text/plain": [
              "2"
            ]
          },
          "metadata": {},
          "execution_count": 11
        }
      ]
    },
    {
      "cell_type": "code",
      "metadata": {
        "colab": {
          "base_uri": "https://localhost:8080/"
        },
        "id": "CaPRnQMQgFbi",
        "outputId": "f8f9286f-2ca4-4b3b-e9c0-38eb7ac96c22"
      },
      "source": [
        "# x.dtype - typ danych\n",
        "x.dtype"
      ],
      "execution_count": null,
      "outputs": [
        {
          "output_type": "execute_result",
          "data": {
            "text/plain": [
              "dtype('int64')"
            ]
          },
          "metadata": {},
          "execution_count": 12
        }
      ]
    },
    {
      "cell_type": "code",
      "metadata": {
        "id": "n357Uk3JgOAj"
      },
      "source": [
        "y = np.array([1.1,2.2,3.3])"
      ],
      "execution_count": null,
      "outputs": []
    },
    {
      "cell_type": "code",
      "metadata": {
        "colab": {
          "base_uri": "https://localhost:8080/"
        },
        "id": "137GBmPHgcNT",
        "outputId": "9b20413c-c4ac-4e58-bd45-1bb59f4be8a9"
      },
      "source": [
        "y.dtype"
      ],
      "execution_count": null,
      "outputs": [
        {
          "output_type": "execute_result",
          "data": {
            "text/plain": [
              "dtype('float64')"
            ]
          },
          "metadata": {},
          "execution_count": 14
        }
      ]
    },
    {
      "cell_type": "code",
      "metadata": {
        "colab": {
          "base_uri": "https://localhost:8080/"
        },
        "id": "Vqq5N34rgtND",
        "outputId": "6e20b4db-d0f7-42fd-80eb-817ebad9dc4c"
      },
      "source": [
        "### 2D Array \n",
        "x = np.array([[1,2],[3,4],[5,6]])\n",
        "y = np.array([[1,2,3],[4,5,6],[7,8,9]])\n",
        "print(x)\n",
        "print(y)\n"
      ],
      "execution_count": null,
      "outputs": [
        {
          "output_type": "stream",
          "text": [
            "[[1 2]\n",
            " [3 4]\n",
            " [5 6]]\n",
            "[[1 2 3]\n",
            " [4 5 6]\n",
            " [7 8 9]]\n"
          ],
          "name": "stdout"
        }
      ]
    },
    {
      "cell_type": "code",
      "metadata": {
        "colab": {
          "base_uri": "https://localhost:8080/"
        },
        "id": "2UoWRNxNg45z",
        "outputId": "5ef90aa4-c6a1-4625-a915-92bf5c872423"
      },
      "source": [
        "y.shape"
      ],
      "execution_count": null,
      "outputs": [
        {
          "output_type": "execute_result",
          "data": {
            "text/plain": [
              "(3, 3)"
            ]
          },
          "metadata": {},
          "execution_count": 16
        }
      ]
    },
    {
      "cell_type": "code",
      "metadata": {
        "colab": {
          "base_uri": "https://localhost:8080/"
        },
        "id": "k1yANzsWhfxJ",
        "outputId": "7b1b4e3d-7f25-4fe5-92c0-f21856c992cf"
      },
      "source": [
        "y.ndim"
      ],
      "execution_count": null,
      "outputs": [
        {
          "output_type": "execute_result",
          "data": {
            "text/plain": [
              "2"
            ]
          },
          "metadata": {},
          "execution_count": 17
        }
      ]
    },
    {
      "cell_type": "code",
      "metadata": {
        "colab": {
          "base_uri": "https://localhost:8080/"
        },
        "id": "61GUvr5GhFMz",
        "outputId": "eb639549-753f-4f6e-8dde-7c263576be0c"
      },
      "source": [
        "x.size"
      ],
      "execution_count": null,
      "outputs": [
        {
          "output_type": "execute_result",
          "data": {
            "text/plain": [
              "6"
            ]
          },
          "metadata": {},
          "execution_count": 18
        }
      ]
    },
    {
      "cell_type": "code",
      "metadata": {
        "colab": {
          "base_uri": "https://localhost:8080/"
        },
        "id": "aZx4uLn0hG2z",
        "outputId": "10d30ff6-54cf-47c1-d733-6d4a3c8e54e4"
      },
      "source": [
        "x.dtype"
      ],
      "execution_count": null,
      "outputs": [
        {
          "output_type": "execute_result",
          "data": {
            "text/plain": [
              "dtype('int64')"
            ]
          },
          "metadata": {},
          "execution_count": 19
        }
      ]
    },
    {
      "cell_type": "code",
      "metadata": {
        "colab": {
          "base_uri": "https://localhost:8080/"
        },
        "id": "2DigZSfrhIkz",
        "outputId": "88cd41eb-c0ca-405d-bc12-3cce3c360a0d"
      },
      "source": [
        "x.ndim"
      ],
      "execution_count": null,
      "outputs": [
        {
          "output_type": "execute_result",
          "data": {
            "text/plain": [
              "2"
            ]
          },
          "metadata": {},
          "execution_count": 20
        }
      ]
    },
    {
      "cell_type": "code",
      "metadata": {
        "colab": {
          "base_uri": "https://localhost:8080/"
        },
        "id": "9K9SiylphM3y",
        "outputId": "72dfce1b-7801-49dd-88b3-43f90949c29b"
      },
      "source": [
        "### 3d array\n",
        "x = np.array(\n",
        "    [[[4,3,2],\n",
        "      [1,2,3]],\n",
        "     \n",
        "     [[1,2,3],\n",
        "      [1,2,3]]]\n",
        ")\n",
        "print(x)\n"
      ],
      "execution_count": null,
      "outputs": [
        {
          "output_type": "stream",
          "text": [
            "[[[4 3 2]\n",
            "  [1 2 3]]\n",
            "\n",
            " [[1 2 3]\n",
            "  [1 2 3]]]\n"
          ],
          "name": "stdout"
        }
      ]
    },
    {
      "cell_type": "code",
      "metadata": {
        "id": "31jk8KYHjme8"
      },
      "source": [
        "x.ndim\n",
        "a,b,c =x.shape"
      ],
      "execution_count": null,
      "outputs": []
    },
    {
      "cell_type": "code",
      "metadata": {
        "colab": {
          "base_uri": "https://localhost:8080/"
        },
        "id": "0x0uj9mBj1MT",
        "outputId": "b2480242-66f0-4dd0-8dc7-db4f349e1744"
      },
      "source": [
        "print(a)\n",
        "print(b)\n",
        "print(c)"
      ],
      "execution_count": null,
      "outputs": [
        {
          "output_type": "stream",
          "text": [
            "2\n",
            "2\n",
            "3\n"
          ],
          "name": "stdout"
        }
      ]
    },
    {
      "cell_type": "code",
      "metadata": {
        "colab": {
          "base_uri": "https://localhost:8080/"
        },
        "id": "CzfdUS1wj9RT",
        "outputId": "feed2417-83b3-4f8e-d4b6-1165f558ae29"
      },
      "source": [
        "### Tyoy danych\n",
        "A = np.array([1,3,4])\n",
        "A.dtype"
      ],
      "execution_count": null,
      "outputs": [
        {
          "output_type": "execute_result",
          "data": {
            "text/plain": [
              "dtype('int64')"
            ]
          },
          "metadata": {},
          "execution_count": 24
        }
      ]
    },
    {
      "cell_type": "code",
      "metadata": {
        "colab": {
          "base_uri": "https://localhost:8080/"
        },
        "id": "QXfnmKHflo10",
        "outputId": "aa44d4ce-cc60-44cd-97bd-2fa40d3b9c33"
      },
      "source": [
        "B = np.array([1.3,2.4])\n",
        "B.dtype"
      ],
      "execution_count": null,
      "outputs": [
        {
          "output_type": "execute_result",
          "data": {
            "text/plain": [
              "dtype('float64')"
            ]
          },
          "metadata": {},
          "execution_count": 25
        }
      ]
    },
    {
      "cell_type": "code",
      "metadata": {
        "colab": {
          "base_uri": "https://localhost:8080/"
        },
        "id": "jrNW_yUclwQE",
        "outputId": "e42bfc5e-40f7-4f2b-94ca-7ab5ea92e258"
      },
      "source": [
        "C = np.array([1.3,2.4], dtype = 'float')\n",
        "C.dtype"
      ],
      "execution_count": null,
      "outputs": [
        {
          "output_type": "execute_result",
          "data": {
            "text/plain": [
              "dtype('float64')"
            ]
          },
          "metadata": {},
          "execution_count": 26
        }
      ]
    },
    {
      "cell_type": "code",
      "metadata": {
        "colab": {
          "base_uri": "https://localhost:8080/"
        },
        "id": "qZXZF-R2l5mU",
        "outputId": "332cb59e-156c-4b1b-81aa-b0d9decf23a1"
      },
      "source": [
        "D = np.array([1.3,2.4], dtype = 'complex')\n",
        "D.dtype\n",
        "D"
      ],
      "execution_count": null,
      "outputs": [
        {
          "output_type": "execute_result",
          "data": {
            "text/plain": [
              "array([1.3+0.j, 2.4+0.j])"
            ]
          },
          "metadata": {},
          "execution_count": 27
        }
      ]
    },
    {
      "cell_type": "code",
      "metadata": {
        "colab": {
          "base_uri": "https://localhost:8080/"
        },
        "id": "g-ZjzgWqmAcE",
        "outputId": "9c2d1ad1-731e-46b6-961f-bf6b57e1c8c2"
      },
      "source": [
        "E = np.array([True, False])\n",
        "E.dtype ## bool - logiczne dane"
      ],
      "execution_count": null,
      "outputs": [
        {
          "output_type": "execute_result",
          "data": {
            "text/plain": [
              "dtype('bool')"
            ]
          },
          "metadata": {},
          "execution_count": 28
        }
      ]
    },
    {
      "cell_type": "code",
      "metadata": {
        "id": "qSo5TTfumazU"
      },
      "source": [
        "F = np.array([24,120,230],dtype=np.int8) ### do zachowania obrazów"
      ],
      "execution_count": null,
      "outputs": []
    },
    {
      "cell_type": "code",
      "metadata": {
        "id": "G0dvk4J3muW0"
      },
      "source": [
        "G = np.array([24,120,230],dtype=np.uint8) ### do zachowania obrazów"
      ],
      "execution_count": null,
      "outputs": []
    },
    {
      "cell_type": "code",
      "metadata": {
        "id": "IvCY7Bg5mxiE",
        "colab": {
          "base_uri": "https://localhost:8080/"
        },
        "outputId": "500da81b-e019-413f-dfcf-78494448633d"
      },
      "source": [
        "### Tworzenie tablic\n",
        "np.zeros(shape=(4, 10))"
      ],
      "execution_count": null,
      "outputs": [
        {
          "output_type": "execute_result",
          "data": {
            "text/plain": [
              "array([[0., 0., 0., 0., 0., 0., 0., 0., 0., 0.],\n",
              "       [0., 0., 0., 0., 0., 0., 0., 0., 0., 0.],\n",
              "       [0., 0., 0., 0., 0., 0., 0., 0., 0., 0.],\n",
              "       [0., 0., 0., 0., 0., 0., 0., 0., 0., 0.]])"
            ]
          },
          "metadata": {},
          "execution_count": 31
        }
      ]
    },
    {
      "cell_type": "code",
      "metadata": {
        "colab": {
          "base_uri": "https://localhost:8080/"
        },
        "id": "kxFhU4wll0cX",
        "outputId": "183db029-ea86-4572-d53d-dec4ad2df18e"
      },
      "source": [
        "np.zeros(shape=(5\n",
        "                ,10),dtype='int')"
      ],
      "execution_count": null,
      "outputs": [
        {
          "output_type": "execute_result",
          "data": {
            "text/plain": [
              "array([[0, 0, 0, 0, 0, 0, 0, 0, 0, 0],\n",
              "       [0, 0, 0, 0, 0, 0, 0, 0, 0, 0],\n",
              "       [0, 0, 0, 0, 0, 0, 0, 0, 0, 0],\n",
              "       [0, 0, 0, 0, 0, 0, 0, 0, 0, 0],\n",
              "       [0, 0, 0, 0, 0, 0, 0, 0, 0, 0]])"
            ]
          },
          "metadata": {},
          "execution_count": 32
        }
      ]
    },
    {
      "cell_type": "code",
      "metadata": {
        "colab": {
          "base_uri": "https://localhost:8080/"
        },
        "id": "JwPZFz5pmJXq",
        "outputId": "d405a321-8dfb-4dcb-fa91-f7034e257bd8"
      },
      "source": [
        "np.ones(shape=(5,5))"
      ],
      "execution_count": null,
      "outputs": [
        {
          "output_type": "execute_result",
          "data": {
            "text/plain": [
              "array([[1., 1., 1., 1., 1.],\n",
              "       [1., 1., 1., 1., 1.],\n",
              "       [1., 1., 1., 1., 1.],\n",
              "       [1., 1., 1., 1., 1.],\n",
              "       [1., 1., 1., 1., 1.]])"
            ]
          },
          "metadata": {},
          "execution_count": 33
        }
      ]
    },
    {
      "cell_type": "code",
      "metadata": {
        "colab": {
          "base_uri": "https://localhost:8080/"
        },
        "id": "pVZOXGx8n4zS",
        "outputId": "abb4f626-69a4-4705-8973-937ec6ea84e5"
      },
      "source": [
        "np.full(shape=(3,6),  fill_value=5, order='F')"
      ],
      "execution_count": null,
      "outputs": [
        {
          "output_type": "execute_result",
          "data": {
            "text/plain": [
              "array([[5, 5, 5, 5, 5, 5],\n",
              "       [5, 5, 5, 5, 5, 5],\n",
              "       [5, 5, 5, 5, 5, 5]])"
            ]
          },
          "metadata": {},
          "execution_count": 34
        }
      ]
    },
    {
      "cell_type": "code",
      "metadata": {
        "colab": {
          "base_uri": "https://localhost:8080/"
        },
        "id": "ZdwjBIRxpSir",
        "outputId": "caaac545-4c10-4e46-d89b-546b8e6ec2b5"
      },
      "source": [
        "np.full((3,3), [1,2,3],'float')"
      ],
      "execution_count": null,
      "outputs": [
        {
          "output_type": "execute_result",
          "data": {
            "text/plain": [
              "array([[1., 2., 3.],\n",
              "       [1., 2., 3.],\n",
              "       [1., 2., 3.]])"
            ]
          },
          "metadata": {},
          "execution_count": 35
        }
      ]
    },
    {
      "cell_type": "code",
      "metadata": {
        "colab": {
          "base_uri": "https://localhost:8080/"
        },
        "id": "VKrrDcN7p63r",
        "outputId": "d8e03337-6c09-41ce-9bff-0eeafd38622f"
      },
      "source": [
        "np.arange(10)"
      ],
      "execution_count": null,
      "outputs": [
        {
          "output_type": "execute_result",
          "data": {
            "text/plain": [
              "array([0, 1, 2, 3, 4, 5, 6, 7, 8, 9])"
            ]
          },
          "metadata": {},
          "execution_count": 36
        }
      ]
    },
    {
      "cell_type": "code",
      "metadata": {
        "colab": {
          "base_uri": "https://localhost:8080/"
        },
        "id": "dkhWVp_BqfLs",
        "outputId": "c6e3ac12-1834-4c77-c2a5-0510cb91a478"
      },
      "source": [
        "np.arange(10)"
      ],
      "execution_count": null,
      "outputs": [
        {
          "output_type": "execute_result",
          "data": {
            "text/plain": [
              "array([0, 1, 2, 3, 4, 5, 6, 7, 8, 9])"
            ]
          },
          "metadata": {},
          "execution_count": 37
        }
      ]
    },
    {
      "cell_type": "code",
      "metadata": {
        "colab": {
          "base_uri": "https://localhost:8080/"
        },
        "id": "gmjWA3_GqnO7",
        "outputId": "841cb1fb-28f9-4e71-a87b-9b86950ad12c"
      },
      "source": [
        "list(range(10))"
      ],
      "execution_count": null,
      "outputs": [
        {
          "output_type": "execute_result",
          "data": {
            "text/plain": [
              "[0, 1, 2, 3, 4, 5, 6, 7, 8, 9]"
            ]
          },
          "metadata": {},
          "execution_count": 38
        }
      ]
    },
    {
      "cell_type": "code",
      "metadata": {
        "colab": {
          "base_uri": "https://localhost:8080/"
        },
        "id": "MUmN7ksTq7wq",
        "outputId": "a683e12b-dce4-4079-d7c3-d24b35b52dc3"
      },
      "source": [
        "np.arange(start=1, stop=25, step=5)"
      ],
      "execution_count": null,
      "outputs": [
        {
          "output_type": "execute_result",
          "data": {
            "text/plain": [
              "array([ 1,  6, 11, 16, 21])"
            ]
          },
          "metadata": {},
          "execution_count": 39
        }
      ]
    },
    {
      "cell_type": "code",
      "metadata": {
        "colab": {
          "base_uri": "https://localhost:8080/"
        },
        "id": "S1vNrcRmrO57",
        "outputId": "38b6a038-57ce-4fdf-d05d-2a850301a333"
      },
      "source": [
        "np.arange(start=25, stop=1, step=-5)"
      ],
      "execution_count": null,
      "outputs": [
        {
          "output_type": "execute_result",
          "data": {
            "text/plain": [
              "array([25, 20, 15, 10,  5])"
            ]
          },
          "metadata": {},
          "execution_count": 40
        }
      ]
    },
    {
      "cell_type": "code",
      "metadata": {
        "colab": {
          "base_uri": "https://localhost:8080/"
        },
        "id": "3fh2_c17rt3b",
        "outputId": "a8ea90a0-3901-4fb9-9b87-e87cf8c168d1"
      },
      "source": [
        "np.linspace(start=1, stop=10,num=9) #od start do stop"
      ],
      "execution_count": null,
      "outputs": [
        {
          "output_type": "execute_result",
          "data": {
            "text/plain": [
              "array([ 1.   ,  2.125,  3.25 ,  4.375,  5.5  ,  6.625,  7.75 ,  8.875,\n",
              "       10.   ])"
            ]
          },
          "metadata": {},
          "execution_count": 41
        }
      ]
    },
    {
      "cell_type": "code",
      "metadata": {
        "id": "FmpH9egVsEkr"
      },
      "source": [
        "A = np.arange(1,101,9)"
      ],
      "execution_count": null,
      "outputs": []
    },
    {
      "cell_type": "code",
      "metadata": {
        "colab": {
          "base_uri": "https://localhost:8080/"
        },
        "id": "2n4woADHsP-U",
        "outputId": "9dc8c2a8-548a-4b4b-d275-48721e2f9b8e"
      },
      "source": [
        "A.shape"
      ],
      "execution_count": null,
      "outputs": [
        {
          "output_type": "execute_result",
          "data": {
            "text/plain": [
              "(12,)"
            ]
          },
          "metadata": {},
          "execution_count": 43
        }
      ]
    },
    {
      "cell_type": "code",
      "metadata": {
        "colab": {
          "base_uri": "https://localhost:8080/"
        },
        "id": "lzWGmsS8sRer",
        "outputId": "d3747af1-3833-4bbb-8cbd-d17884cabe6b"
      },
      "source": [
        "A.reshape((3,4))\n",
        "A.reshape((3,-1))#python dopier odpowiednia ilosc kolumn -1\n"
      ],
      "execution_count": null,
      "outputs": [
        {
          "output_type": "execute_result",
          "data": {
            "text/plain": [
              "array([[  1,  10,  19,  28],\n",
              "       [ 37,  46,  55,  64],\n",
              "       [ 73,  82,  91, 100]])"
            ]
          },
          "metadata": {},
          "execution_count": 44
        }
      ]
    },
    {
      "cell_type": "code",
      "metadata": {
        "id": "FBW9C6LrsXu8"
      },
      "source": [
        "A = np.array([1,2,3,4])"
      ],
      "execution_count": null,
      "outputs": []
    },
    {
      "cell_type": "code",
      "metadata": {
        "id": "-59ZUNgPvInt"
      },
      "source": [
        "B = np.array([-1,-3,4,5])"
      ],
      "execution_count": null,
      "outputs": []
    },
    {
      "cell_type": "code",
      "metadata": {
        "colab": {
          "base_uri": "https://localhost:8080/"
        },
        "id": "lwc28UGmvNns",
        "outputId": "ea783423-a047-4118-e4dd-812eb7d8ff51"
      },
      "source": [
        "A + B"
      ],
      "execution_count": null,
      "outputs": [
        {
          "output_type": "execute_result",
          "data": {
            "text/plain": [
              "array([ 0, -1,  7,  9])"
            ]
          },
          "metadata": {},
          "execution_count": 47
        }
      ]
    },
    {
      "cell_type": "code",
      "metadata": {
        "colab": {
          "base_uri": "https://localhost:8080/"
        },
        "id": "NnrEJkX_vPRc",
        "outputId": "f2de25ea-977b-4388-cf85-a7dfd651eabb"
      },
      "source": [
        "A - B\n"
      ],
      "execution_count": null,
      "outputs": [
        {
          "output_type": "execute_result",
          "data": {
            "text/plain": [
              "array([ 2,  5, -1, -1])"
            ]
          },
          "metadata": {},
          "execution_count": 48
        }
      ]
    },
    {
      "cell_type": "code",
      "metadata": {
        "colab": {
          "base_uri": "https://localhost:8080/"
        },
        "id": "9qEmgHZnvRD8",
        "outputId": "2b95a7da-863c-4548-faa2-8ccdbcd12d9d"
      },
      "source": [
        "A * B"
      ],
      "execution_count": null,
      "outputs": [
        {
          "output_type": "execute_result",
          "data": {
            "text/plain": [
              "array([-1, -6, 12, 20])"
            ]
          },
          "metadata": {},
          "execution_count": 49
        }
      ]
    },
    {
      "cell_type": "code",
      "metadata": {
        "colab": {
          "base_uri": "https://localhost:8080/"
        },
        "id": "Tm98CgnRvSMs",
        "outputId": "4b05fa4c-d0e4-4d50-9bd3-734a4db528c4"
      },
      "source": [
        "A / B\n"
      ],
      "execution_count": null,
      "outputs": [
        {
          "output_type": "execute_result",
          "data": {
            "text/plain": [
              "array([-1.        , -0.66666667,  0.75      ,  0.8       ])"
            ]
          },
          "metadata": {},
          "execution_count": 50
        }
      ]
    },
    {
      "cell_type": "code",
      "metadata": {
        "colab": {
          "base_uri": "https://localhost:8080/"
        },
        "id": "x4Km1v1OvTSr",
        "outputId": "5d5b3e8d-a5db-4267-9fef-977f8a768e21"
      },
      "source": [
        "A + 3 ### odjać, mnożyć, dzielić "
      ],
      "execution_count": null,
      "outputs": [
        {
          "output_type": "execute_result",
          "data": {
            "text/plain": [
              "array([4, 5, 6, 7])"
            ]
          },
          "metadata": {},
          "execution_count": 51
        }
      ]
    },
    {
      "cell_type": "code",
      "metadata": {
        "colab": {
          "base_uri": "https://localhost:8080/"
        },
        "id": "8KtOBof8vaq7",
        "outputId": "a0978bdc-2267-468f-bcb9-88d6ac726343"
      },
      "source": [
        "np.add(A,B) #dodawanie\n",
        "np.subtract(A,B)#odejmowanie\n",
        "np.multiply(A,B)#mnożenie\n",
        "np.divide(A,B)#dzielenie"
      ],
      "execution_count": null,
      "outputs": [
        {
          "output_type": "execute_result",
          "data": {
            "text/plain": [
              "array([-1.        , -0.66666667,  0.75      ,  0.8       ])"
            ]
          },
          "metadata": {},
          "execution_count": 52
        }
      ]
    },
    {
      "cell_type": "code",
      "metadata": {
        "id": "6z4DYenfvz-s"
      },
      "source": [
        "X = np.array([[1,2],[3,4]])\n",
        "Y = np.array([[-1,0],[5,3]])"
      ],
      "execution_count": null,
      "outputs": []
    },
    {
      "cell_type": "code",
      "metadata": {
        "colab": {
          "base_uri": "https://localhost:8080/"
        },
        "id": "xVtsd09DzB4N",
        "outputId": "a5b4da7a-1e11-497c-dc2c-dd898f6f1b55"
      },
      "source": [
        "#mnożenie macierzy - brak przemienność\n",
        "np.dot(X,Y)\n",
        "X.dot(Y)\n",
        "X @ Y "
      ],
      "execution_count": null,
      "outputs": [
        {
          "output_type": "execute_result",
          "data": {
            "text/plain": [
              "array([[ 9,  6],\n",
              "       [17, 12]])"
            ]
          },
          "metadata": {},
          "execution_count": 54
        }
      ]
    },
    {
      "cell_type": "code",
      "metadata": {
        "id": "Ns8Zwl91zP8s"
      },
      "source": [
        "#ziarno losowania\n",
        "np.random.seed(0)\n"
      ],
      "execution_count": null,
      "outputs": []
    },
    {
      "cell_type": "code",
      "metadata": {
        "colab": {
          "base_uri": "https://localhost:8080/"
        },
        "id": "RmDa3uUSFjoD",
        "outputId": "ca018983-b9fa-4c62-a2e9-c7c62f401573"
      },
      "source": [
        "np.random.randn(10,4) #wiersze (liczba probek), kolumny # z rozdzialu normalnego\n"
      ],
      "execution_count": null,
      "outputs": [
        {
          "output_type": "execute_result",
          "data": {
            "text/plain": [
              "array([[ 1.76405235,  0.40015721,  0.97873798,  2.2408932 ],\n",
              "       [ 1.86755799, -0.97727788,  0.95008842, -0.15135721],\n",
              "       [-0.10321885,  0.4105985 ,  0.14404357,  1.45427351],\n",
              "       [ 0.76103773,  0.12167502,  0.44386323,  0.33367433],\n",
              "       [ 1.49407907, -0.20515826,  0.3130677 , -0.85409574],\n",
              "       [-2.55298982,  0.6536186 ,  0.8644362 , -0.74216502],\n",
              "       [ 2.26975462, -1.45436567,  0.04575852, -0.18718385],\n",
              "       [ 1.53277921,  1.46935877,  0.15494743,  0.37816252],\n",
              "       [-0.88778575, -1.98079647, -0.34791215,  0.15634897],\n",
              "       [ 1.23029068,  1.20237985, -0.38732682, -0.30230275]])"
            ]
          },
          "metadata": {},
          "execution_count": 56
        }
      ]
    },
    {
      "cell_type": "code",
      "metadata": {
        "id": "bSvL5GA8GBBC"
      },
      "source": [
        "#random.rand()\n",
        "#Create an array of the given shape and populate it with random samples from a uniform distribution over [0, 1)."
      ],
      "execution_count": null,
      "outputs": []
    },
    {
      "cell_type": "code",
      "metadata": {
        "colab": {
          "base_uri": "https://localhost:8080/"
        },
        "id": "DcpYRXroGvC_",
        "outputId": "ff3e5ff1-0278-4b59-c225-c49d7029904f"
      },
      "source": [
        "np.random.rand(10,4)"
      ],
      "execution_count": null,
      "outputs": [
        {
          "output_type": "execute_result",
          "data": {
            "text/plain": [
              "array([[0.31542835, 0.36371077, 0.57019677, 0.43860151],\n",
              "       [0.98837384, 0.10204481, 0.20887676, 0.16130952],\n",
              "       [0.65310833, 0.2532916 , 0.46631077, 0.24442559],\n",
              "       [0.15896958, 0.11037514, 0.65632959, 0.13818295],\n",
              "       [0.19658236, 0.36872517, 0.82099323, 0.09710128],\n",
              "       [0.83794491, 0.09609841, 0.97645947, 0.4686512 ],\n",
              "       [0.97676109, 0.60484552, 0.73926358, 0.03918779],\n",
              "       [0.28280696, 0.12019656, 0.2961402 , 0.11872772],\n",
              "       [0.31798318, 0.41426299, 0.0641475 , 0.69247212],\n",
              "       [0.56660145, 0.26538949, 0.52324805, 0.09394051]])"
            ]
          },
          "metadata": {},
          "execution_count": 59
        }
      ]
    },
    {
      "cell_type": "code",
      "metadata": {
        "colab": {
          "base_uri": "https://localhost:8080/"
        },
        "id": "rQ5W8FjRGw71",
        "outputId": "ac00f9ec-fd39-4b95-84c4-8f2e762f95c7"
      },
      "source": [
        "#random.randint(low, high=None, size=None, dtype=int)\n",
        "np.random.randint(-5,10,10)"
      ],
      "execution_count": null,
      "outputs": [
        {
          "output_type": "execute_result",
          "data": {
            "text/plain": [
              "array([-4, -1,  5,  1,  6,  3,  6, -3, -2, -5])"
            ]
          },
          "metadata": {},
          "execution_count": 60
        }
      ]
    },
    {
      "cell_type": "code",
      "metadata": {
        "colab": {
          "base_uri": "https://localhost:8080/",
          "height": 35
        },
        "id": "H_xCZZ3lHJCi",
        "outputId": "1473f7ce-6149-4d0a-d74a-5fb76e197cc8"
      },
      "source": [
        "np.random.choice(['python','java','bkaka'])"
      ],
      "execution_count": null,
      "outputs": [
        {
          "output_type": "execute_result",
          "data": {
            "application/vnd.google.colaboratory.intrinsic+json": {
              "type": "string"
            },
            "text/plain": [
              "'python'"
            ]
          },
          "metadata": {},
          "execution_count": 61
        }
      ]
    },
    {
      "cell_type": "code",
      "metadata": {
        "colab": {
          "base_uri": "https://localhost:8080/"
        },
        "id": "rcDLTPdVJ4DT",
        "outputId": "8f0a1811-94b8-47c3-9322-86cbe44424cc"
      },
      "source": [
        "np.random.choice([1,2,3])"
      ],
      "execution_count": null,
      "outputs": [
        {
          "output_type": "execute_result",
          "data": {
            "text/plain": [
              "3"
            ]
          },
          "metadata": {},
          "execution_count": 62
        }
      ]
    },
    {
      "cell_type": "code",
      "metadata": {
        "id": "PxPCkiAZJ6gz"
      },
      "source": [
        "data = np.arange(10)\n",
        "np.random.shuffle(data) #mieszanienp."
      ],
      "execution_count": null,
      "outputs": []
    },
    {
      "cell_type": "code",
      "metadata": {
        "colab": {
          "base_uri": "https://localhost:8080/"
        },
        "id": "L3q70EHvKa_y",
        "outputId": "50088e71-8ed0-4f33-b624-f1699874d663"
      },
      "source": [
        "data"
      ],
      "execution_count": null,
      "outputs": [
        {
          "output_type": "execute_result",
          "data": {
            "text/plain": [
              "array([1, 5, 4, 9, 7, 2, 8, 3, 6, 0])"
            ]
          },
          "metadata": {},
          "execution_count": 64
        }
      ]
    },
    {
      "cell_type": "code",
      "metadata": {
        "colab": {
          "base_uri": "https://localhost:8080/"
        },
        "id": "4O0PoyT8KdOU",
        "outputId": "c4793a1b-d20e-42f2-ef99-5d6a806aa168"
      },
      "source": [
        "#numpay funcje\n",
        "np.exp(1)"
      ],
      "execution_count": null,
      "outputs": [
        {
          "output_type": "execute_result",
          "data": {
            "text/plain": [
              "2.718281828459045"
            ]
          },
          "metadata": {},
          "execution_count": 65
        }
      ]
    },
    {
      "cell_type": "code",
      "metadata": {
        "colab": {
          "base_uri": "https://localhost:8080/"
        },
        "id": "RQgi9ugDKyyj",
        "outputId": "f02fab60-dca3-41af-b63d-0fc1d9d1b28a"
      },
      "source": [
        "np.sqrt(9)"
      ],
      "execution_count": null,
      "outputs": [
        {
          "output_type": "execute_result",
          "data": {
            "text/plain": [
              "3.0"
            ]
          },
          "metadata": {},
          "execution_count": 66
        }
      ]
    },
    {
      "cell_type": "code",
      "metadata": {
        "colab": {
          "base_uri": "https://localhost:8080/"
        },
        "id": "ssuymFgZLXcS",
        "outputId": "319c05a7-4c91-4aa3-c619-348dd4c1b56a"
      },
      "source": [
        "np.all([1,0]) # czy wszystkie sa true"
      ],
      "execution_count": null,
      "outputs": [
        {
          "output_type": "execute_result",
          "data": {
            "text/plain": [
              "False"
            ]
          },
          "metadata": {},
          "execution_count": 67
        }
      ]
    },
    {
      "cell_type": "code",
      "metadata": {
        "colab": {
          "base_uri": "https://localhost:8080/"
        },
        "id": "ZBgYoPdIL4XU",
        "outputId": "72615d6e-9b9d-4660-e66d-83375c0fb34d"
      },
      "source": [
        "np.any([0]) #czy jakakolwiek jest true\n"
      ],
      "execution_count": null,
      "outputs": [
        {
          "output_type": "execute_result",
          "data": {
            "text/plain": [
              "False"
            ]
          },
          "metadata": {},
          "execution_count": 68
        }
      ]
    },
    {
      "cell_type": "code",
      "metadata": {
        "colab": {
          "base_uri": "https://localhost:8080/"
        },
        "id": "actNBoCnL50U",
        "outputId": "55907e2e-ff91-450b-ff5c-6f387932cf67"
      },
      "source": [
        "bool()#wartosc logiczna obiektu"
      ],
      "execution_count": null,
      "outputs": [
        {
          "output_type": "execute_result",
          "data": {
            "text/plain": [
              "False"
            ]
          },
          "metadata": {},
          "execution_count": 69
        }
      ]
    },
    {
      "cell_type": "code",
      "metadata": {
        "id": "aFs0ecTUM_z0"
      },
      "source": [
        "A = np.random.rand(5)#rozkład jednostajny"
      ],
      "execution_count": null,
      "outputs": []
    },
    {
      "cell_type": "code",
      "metadata": {
        "colab": {
          "base_uri": "https://localhost:8080/"
        },
        "id": "ExZ8f_OMNjW1",
        "outputId": "68784108-41c4-47d8-c1cc-f27feb12d491"
      },
      "source": [
        "A"
      ],
      "execution_count": null,
      "outputs": [
        {
          "output_type": "execute_result",
          "data": {
            "text/plain": [
              "array([0.89155444, 0.68005557, 0.44919774, 0.97857093, 0.11620191])"
            ]
          },
          "metadata": {},
          "execution_count": 83
        }
      ]
    },
    {
      "cell_type": "code",
      "metadata": {
        "colab": {
          "base_uri": "https://localhost:8080/"
        },
        "id": "PRBI4kCcNmWT",
        "outputId": "9f50f815-783e-4650-bcfc-d07563bd9f23"
      },
      "source": [
        "#wartość indeksu największa np.argmax()\n",
        "A[np.argmax(A),]"
      ],
      "execution_count": null,
      "outputs": [
        {
          "output_type": "execute_result",
          "data": {
            "text/plain": [
              "0.7037372792899163"
            ]
          },
          "metadata": {},
          "execution_count": 72
        }
      ]
    },
    {
      "cell_type": "code",
      "metadata": {
        "colab": {
          "base_uri": "https://localhost:8080/"
        },
        "id": "iE1nusC5N2oT",
        "outputId": "bb940a60-148d-49d5-8c2c-153af602b4f2"
      },
      "source": [
        "A[np.argmin(A),]"
      ],
      "execution_count": null,
      "outputs": [
        {
          "output_type": "execute_result",
          "data": {
            "text/plain": [
              "0.14644176272911225"
            ]
          },
          "metadata": {},
          "execution_count": 73
        }
      ]
    },
    {
      "cell_type": "code",
      "metadata": {
        "colab": {
          "base_uri": "https://localhost:8080/"
        },
        "id": "H-BHI_ipOIo0",
        "outputId": "0fd7fd9c-e16e-416b-9d2b-a0e624c1265d"
      },
      "source": [
        "np.argsort(A)"
      ],
      "execution_count": null,
      "outputs": [
        {
          "output_type": "execute_result",
          "data": {
            "text/plain": [
              "array([1, 4, 0, 2, 3])"
            ]
          },
          "metadata": {},
          "execution_count": 74
        }
      ]
    },
    {
      "cell_type": "code",
      "metadata": {
        "colab": {
          "base_uri": "https://localhost:8080/"
        },
        "id": "ePG9B9BQOab3",
        "outputId": "34dd0029-4046-4c6a-a75c-0f3c6d9408d0"
      },
      "source": [
        "np.max(A)"
      ],
      "execution_count": null,
      "outputs": [
        {
          "output_type": "execute_result",
          "data": {
            "text/plain": [
              "0.7037372792899163"
            ]
          },
          "metadata": {},
          "execution_count": 75
        }
      ]
    },
    {
      "cell_type": "code",
      "metadata": {
        "colab": {
          "base_uri": "https://localhost:8080/"
        },
        "id": "ioglIRuFOfPE",
        "outputId": "91dea305-6cd4-4b97-f5e9-83f46c285cd7"
      },
      "source": [
        "np.min(A)"
      ],
      "execution_count": null,
      "outputs": [
        {
          "output_type": "execute_result",
          "data": {
            "text/plain": [
              "0.14644176272911225"
            ]
          },
          "metadata": {},
          "execution_count": 76
        }
      ]
    },
    {
      "cell_type": "code",
      "metadata": {
        "colab": {
          "base_uri": "https://localhost:8080/"
        },
        "id": "THsDriHOOhCU",
        "outputId": "98838ee7-02fe-425d-e9e8-6c3ab08486d6"
      },
      "source": [
        "np.mean(A)"
      ],
      "execution_count": null,
      "outputs": [
        {
          "output_type": "execute_result",
          "data": {
            "text/plain": [
              "0.4156163955478408"
            ]
          },
          "metadata": {},
          "execution_count": 77
        }
      ]
    },
    {
      "cell_type": "code",
      "metadata": {
        "colab": {
          "base_uri": "https://localhost:8080/"
        },
        "id": "9XIfs16zOirU",
        "outputId": "62460fbb-a532-45cd-c833-e85f9d141165"
      },
      "source": [
        "np.median(A)"
      ],
      "execution_count": null,
      "outputs": [
        {
          "output_type": "execute_result",
          "data": {
            "text/plain": [
              "0.36980809274834003"
            ]
          },
          "metadata": {},
          "execution_count": 78
        }
      ]
    },
    {
      "cell_type": "code",
      "metadata": {
        "id": "3chaNcDDOkpj"
      },
      "source": [
        "A = np.arange(20)"
      ],
      "execution_count": null,
      "outputs": []
    },
    {
      "cell_type": "code",
      "metadata": {
        "id": "qtQL7q4HOwaw",
        "colab": {
          "base_uri": "https://localhost:8080/"
        },
        "outputId": "39f3e918-5048-45fb-eca4-779c1fdfe729"
      },
      "source": [
        "#A[indx] - konkret, A[[,]] - dwa lub więcej \n",
        "\n",
        "A[1]\n",
        "#A[start:stop] - przediał \n",
        "A[0:3]\n",
        "#A[:stop]\n",
        "A[:4]\n",
        "#A[start:]\n",
        "A[3:]\n",
        "#A[-1] od końca\n",
        "A[-2]\n",
        "A[[0,3]]"
      ],
      "execution_count": null,
      "outputs": [
        {
          "output_type": "execute_result",
          "data": {
            "text/plain": [
              "array([0.89155444, 0.97857093])"
            ]
          },
          "metadata": {},
          "execution_count": 92
        }
      ]
    },
    {
      "cell_type": "code",
      "metadata": {
        "colab": {
          "base_uri": "https://localhost:8080/"
        },
        "id": "lx7Weny8Lb8Q",
        "outputId": "be2c5237-1736-4790-fda7-b60cf6077637"
      },
      "source": [
        "A=np.arange(20)\n",
        "np.random.shuffle(A)\n",
        "A=A.reshape(4,-1)\n",
        "A"
      ],
      "execution_count": 4,
      "outputs": [
        {
          "output_type": "execute_result",
          "data": {
            "text/plain": [
              "array([[15, 17,  9,  2,  1],\n",
              "       [12,  7,  0, 18, 11],\n",
              "       [14, 19,  4,  6, 10],\n",
              "       [ 5, 16,  8,  3, 13]])"
            ]
          },
          "metadata": {},
          "execution_count": 4
        }
      ]
    },
    {
      "cell_type": "code",
      "metadata": {
        "colab": {
          "base_uri": "https://localhost:8080/"
        },
        "id": "GMLuaaPTNw0P",
        "outputId": "566fe543-ee0c-4c98-cc57-34b2ac10755c"
      },
      "source": [
        "#Wycinanie wiersza\n",
        "A[0]"
      ],
      "execution_count": null,
      "outputs": [
        {
          "output_type": "execute_result",
          "data": {
            "text/plain": [
              "array([13,  7,  5,  3, 15])"
            ]
          },
          "metadata": {},
          "execution_count": 112
        }
      ]
    },
    {
      "cell_type": "code",
      "metadata": {
        "colab": {
          "base_uri": "https://localhost:8080/"
        },
        "id": "VuwJHiXIOZbQ",
        "outputId": "33e92aac-fd2f-4999-c997-b70ac2fe4066"
      },
      "source": [
        "#wycinanie kolumny\n",
        "A[:,1]"
      ],
      "execution_count": null,
      "outputs": [
        {
          "output_type": "execute_result",
          "data": {
            "text/plain": [
              "array([ 9, 19, 17,  7])"
            ]
          },
          "metadata": {},
          "execution_count": 114
        }
      ]
    },
    {
      "cell_type": "code",
      "metadata": {
        "colab": {
          "base_uri": "https://localhost:8080/"
        },
        "id": "sU6Kb1uxNypf",
        "outputId": "a3fe062c-4a79-4aea-87d6-b58e75313073"
      },
      "source": [
        "#wycinanie elementu\n",
        "A[1,3]"
      ],
      "execution_count": null,
      "outputs": [
        {
          "output_type": "execute_result",
          "data": {
            "text/plain": [
              "18"
            ]
          },
          "metadata": {},
          "execution_count": 115
        }
      ]
    },
    {
      "cell_type": "code",
      "metadata": {
        "colab": {
          "base_uri": "https://localhost:8080/"
        },
        "id": "1Q-EfTGnNzWv",
        "outputId": "9252d5a0-c0de-4207-ce63-587df5fe153f"
      },
      "source": [
        "np.max(A)\n",
        "B = np.arange(10)\n",
        "np.where(A == np.min(A)) #znajdowanie indexu wartosci"
      ],
      "execution_count": null,
      "outputs": [
        {
          "output_type": "execute_result",
          "data": {
            "text/plain": [
              "(array([3]), array([3]))"
            ]
          },
          "metadata": {},
          "execution_count": 126
        }
      ]
    },
    {
      "cell_type": "code",
      "metadata": {
        "colab": {
          "base_uri": "https://localhost:8080/"
        },
        "id": "RmksYmg2S54A",
        "outputId": "37754e9c-961f-4c53-f495-39f9162d395d"
      },
      "source": [
        "A[1:3,1:4]"
      ],
      "execution_count": null,
      "outputs": [
        {
          "output_type": "execute_result",
          "data": {
            "text/plain": [
              "array([[19,  3, 18],\n",
              "       [17,  1, 10]])"
            ]
          },
          "metadata": {},
          "execution_count": 128
        }
      ]
    },
    {
      "cell_type": "code",
      "metadata": {
        "colab": {
          "base_uri": "https://localhost:8080/"
        },
        "id": "hGZH0aRvUHGS",
        "outputId": "e31d275e-f808-4b54-91b5-4360d90c4bf5"
      },
      "source": [
        "np.where(A == 7)"
      ],
      "execution_count": null,
      "outputs": [
        {
          "output_type": "execute_result",
          "data": {
            "text/plain": [
              "(array([3]), array([1]))"
            ]
          },
          "metadata": {},
          "execution_count": 129
        }
      ]
    },
    {
      "cell_type": "code",
      "metadata": {
        "id": "HWHW2HfDUSWh"
      },
      "source": [
        "A[3,1] = 21 #przypisywanie nowych wartości"
      ],
      "execution_count": null,
      "outputs": []
    },
    {
      "cell_type": "code",
      "metadata": {
        "colab": {
          "base_uri": "https://localhost:8080/"
        },
        "id": "w3YOpnC5UekA",
        "outputId": "93dcc234-0ac7-4d07-93c8-5b74ec435bea"
      },
      "source": [
        "A"
      ],
      "execution_count": null,
      "outputs": [
        {
          "output_type": "execute_result",
          "data": {
            "text/plain": [
              "array([[ 5,  9,  2, 11, 12],\n",
              "       [ 6, 19,  3, 18, 15],\n",
              "       [ 4, 17,  1, 10, 13],\n",
              "       [16, 21,  8,  0, 14]])"
            ]
          },
          "metadata": {},
          "execution_count": 131
        }
      ]
    },
    {
      "cell_type": "code",
      "metadata": {
        "colab": {
          "base_uri": "https://localhost:8080/"
        },
        "id": "L8l9VpP1UfXg",
        "outputId": "524f0d00-f674-42ec-be87-be65eb814cfd"
      },
      "source": [
        "#iteracja po wierszy \n",
        "for row in A:\n",
        "  print(row)"
      ],
      "execution_count": null,
      "outputs": [
        {
          "output_type": "stream",
          "text": [
            "[ 5  9  2 11 12]\n",
            "[ 6 19  3 18 15]\n",
            "[ 4 17  1 10 13]\n",
            "[16 21  8  0 14]\n"
          ],
          "name": "stdout"
        }
      ]
    },
    {
      "cell_type": "code",
      "metadata": {
        "colab": {
          "base_uri": "https://localhost:8080/"
        },
        "id": "ovqg5ea2U-jw",
        "outputId": "2e287091-ad88-465d-9ecd-3a8d51772187"
      },
      "source": [
        "np.where(A == 0)"
      ],
      "execution_count": null,
      "outputs": [
        {
          "output_type": "execute_result",
          "data": {
            "text/plain": [
              "(array([3]), array([3]))"
            ]
          },
          "metadata": {},
          "execution_count": 136
        }
      ]
    },
    {
      "cell_type": "code",
      "metadata": {
        "id": "VyD5fKg3VHgB"
      },
      "source": [
        "A[3,3]=1"
      ],
      "execution_count": null,
      "outputs": []
    },
    {
      "cell_type": "code",
      "metadata": {
        "colab": {
          "base_uri": "https://localhost:8080/"
        },
        "id": "eb9wZ1l4VKuQ",
        "outputId": "0f3b08c6-4de5-4fe7-8f27-ae78910e3eff"
      },
      "source": [
        "for row in A:\n",
        "  print(row)"
      ],
      "execution_count": 5,
      "outputs": [
        {
          "output_type": "stream",
          "name": "stdout",
          "text": [
            "[15 17  9  2  1]\n",
            "[12  7  0 18 11]\n",
            "[14 19  4  6 10]\n",
            "[ 5 16  8  3 13]\n"
          ]
        }
      ]
    },
    {
      "cell_type": "code",
      "metadata": {
        "colab": {
          "base_uri": "https://localhost:8080/"
        },
        "id": "9EoSXkdLVO8S",
        "outputId": "54fb1d20-7f40-4f53-b297-92407207e65f"
      },
      "source": [
        "for row in A:\n",
        "  print(row[0]) #printowanie indeksu 0 z każdego wiersza"
      ],
      "execution_count": 7,
      "outputs": [
        {
          "output_type": "stream",
          "name": "stdout",
          "text": [
            "17\n",
            "7\n",
            "19\n",
            "16\n"
          ]
        }
      ]
    },
    {
      "cell_type": "code",
      "metadata": {
        "colab": {
          "base_uri": "https://localhost:8080/"
        },
        "id": "bYeukFYRVPpA",
        "outputId": "b8824cf6-ed91-449f-f01d-847745726819"
      },
      "source": [
        "for row in A:\n",
        "  print(max(row)) #wyświetlanie wartośći maksymalnych"
      ],
      "execution_count": 8,
      "outputs": [
        {
          "output_type": "stream",
          "name": "stdout",
          "text": [
            "17\n",
            "18\n",
            "19\n",
            "16\n"
          ]
        }
      ]
    },
    {
      "cell_type": "code",
      "metadata": {
        "colab": {
          "base_uri": "https://localhost:8080/"
        },
        "id": "MJpcMcDzVZpQ",
        "outputId": "f5d6fd8b-24df-4d37-de99-ce1199f68671"
      },
      "source": [
        "for row in A:\n",
        "  print(row[:3])  #wyświetlanie trzech pierwszych wartości w wierszach"
      ],
      "execution_count": 9,
      "outputs": [
        {
          "output_type": "stream",
          "name": "stdout",
          "text": [
            "[15 17  9]\n",
            "[12  7  0]\n",
            "[14 19  4]\n",
            "[ 5 16  8]\n"
          ]
        }
      ]
    },
    {
      "cell_type": "code",
      "metadata": {
        "colab": {
          "base_uri": "https://localhost:8080/"
        },
        "id": "0wCKKuKrVagw",
        "outputId": "5336b843-95de-41dc-9952-f8176f34f116"
      },
      "source": [
        "for a in A.flat: ### iteracja po każdym elemencie tablicy\n",
        "  print(a)"
      ],
      "execution_count": 14,
      "outputs": [
        {
          "output_type": "stream",
          "name": "stdout",
          "text": [
            "15\n",
            "17\n",
            "9\n",
            "2\n",
            "1\n",
            "12\n",
            "7\n",
            "0\n",
            "18\n",
            "11\n",
            "14\n",
            "19\n",
            "4\n",
            "6\n",
            "10\n",
            "5\n",
            "16\n",
            "8\n",
            "3\n",
            "13\n"
          ]
        }
      ]
    },
    {
      "cell_type": "code",
      "metadata": {
        "colab": {
          "base_uri": "https://localhost:8080/"
        },
        "id": "dHPf5bkzWLAg",
        "outputId": "55a8b633-d49d-44b1-952e-1f7c3884fdd3"
      },
      "source": [
        "### zmiana rozmiaru tablic\n",
        "A.shape"
      ],
      "execution_count": 15,
      "outputs": [
        {
          "output_type": "execute_result",
          "data": {
            "text/plain": [
              "(4, 5)"
            ]
          },
          "metadata": {},
          "execution_count": 15
        }
      ]
    },
    {
      "cell_type": "code",
      "metadata": {
        "colab": {
          "base_uri": "https://localhost:8080/"
        },
        "id": "84g_TRYMWTuA",
        "outputId": "b48909a9-dadd-424b-df43-87b2641cd2da"
      },
      "source": [
        "A.reshape(2,-1)"
      ],
      "execution_count": 16,
      "outputs": [
        {
          "output_type": "execute_result",
          "data": {
            "text/plain": [
              "array([[15, 17,  9,  2,  1, 12,  7,  0, 18, 11],\n",
              "       [14, 19,  4,  6, 10,  5, 16,  8,  3, 13]])"
            ]
          },
          "metadata": {},
          "execution_count": 16
        }
      ]
    },
    {
      "cell_type": "code",
      "metadata": {
        "id": "huddg4BOWlth",
        "colab": {
          "base_uri": "https://localhost:8080/"
        },
        "outputId": "d04b0f87-1291-4d0c-8c03-29e9501aa2fb"
      },
      "source": [
        "A.reshape(5,-1)"
      ],
      "execution_count": 17,
      "outputs": [
        {
          "output_type": "execute_result",
          "data": {
            "text/plain": [
              "array([[15, 17,  9,  2],\n",
              "       [ 1, 12,  7,  0],\n",
              "       [18, 11, 14, 19],\n",
              "       [ 4,  6, 10,  5],\n",
              "       [16,  8,  3, 13]])"
            ]
          },
          "metadata": {},
          "execution_count": 17
        }
      ]
    },
    {
      "cell_type": "code",
      "metadata": {
        "colab": {
          "base_uri": "https://localhost:8080/"
        },
        "id": "fCnWuLhm1dOf",
        "outputId": "01c0324c-b7f6-438c-b1e8-d46b13f9704d"
      },
      "source": [
        "A.reshape(1,-1)"
      ],
      "execution_count": 18,
      "outputs": [
        {
          "output_type": "execute_result",
          "data": {
            "text/plain": [
              "array([[15, 17,  9,  2,  1, 12,  7,  0, 18, 11, 14, 19,  4,  6, 10,  5,\n",
              "        16,  8,  3, 13]])"
            ]
          },
          "metadata": {},
          "execution_count": 18
        }
      ]
    },
    {
      "cell_type": "code",
      "metadata": {
        "colab": {
          "base_uri": "https://localhost:8080/"
        },
        "id": "ZvHoPSna1qLP",
        "outputId": "859b7f3b-746a-4f22-b92b-c1db66ef514b"
      },
      "source": [
        "A.ravel() # zamiana array into one demension list"
      ],
      "execution_count": 21,
      "outputs": [
        {
          "output_type": "execute_result",
          "data": {
            "text/plain": [
              "array([15, 17,  9,  2,  1, 12,  7,  0, 18, 11, 14, 19,  4,  6, 10,  5, 16,\n",
              "        8,  3, 13])"
            ]
          },
          "metadata": {},
          "execution_count": 21
        }
      ]
    },
    {
      "cell_type": "code",
      "metadata": {
        "colab": {
          "base_uri": "https://localhost:8080/"
        },
        "id": "gfwcqv7C1sa_",
        "outputId": "dc51a536-a507-471d-c945-7cd1d92ef469"
      },
      "source": [
        "A.reshape(5,-1)"
      ],
      "execution_count": 23,
      "outputs": [
        {
          "output_type": "execute_result",
          "data": {
            "text/plain": [
              "array([[15, 17,  9,  2],\n",
              "       [ 1, 12,  7,  0],\n",
              "       [18, 11, 14, 19],\n",
              "       [ 4,  6, 10,  5],\n",
              "       [16,  8,  3, 13]])"
            ]
          },
          "metadata": {},
          "execution_count": 23
        }
      ]
    },
    {
      "cell_type": "code",
      "metadata": {
        "colab": {
          "base_uri": "https://localhost:8080/"
        },
        "id": "Uix9lMX317ug",
        "outputId": "1f40f7f7-27cd-4cfd-b77d-deae110cde8c"
      },
      "source": [
        "A.T #transponacja macierzy\n"
      ],
      "execution_count": 24,
      "outputs": [
        {
          "output_type": "execute_result",
          "data": {
            "text/plain": [
              "array([[15, 12, 14,  5],\n",
              "       [17,  7, 19, 16],\n",
              "       [ 9,  0,  4,  8],\n",
              "       [ 2, 18,  6,  3],\n",
              "       [ 1, 11, 10, 13]])"
            ]
          },
          "metadata": {},
          "execution_count": 24
        }
      ]
    },
    {
      "cell_type": "code",
      "metadata": {
        "id": "UC8_5Ze918t_"
      },
      "source": [
        "A = np.arange(start=-10, stop=10, step=0.5 )"
      ],
      "execution_count": 35,
      "outputs": []
    },
    {
      "cell_type": "code",
      "metadata": {
        "id": "0HGV6Q3-2csN"
      },
      "source": [
        ""
      ],
      "execution_count": null,
      "outputs": []
    },
    {
      "cell_type": "code",
      "metadata": {
        "colab": {
          "base_uri": "https://localhost:8080/"
        },
        "id": "exAv5jej2QWA",
        "outputId": "b213e3b3-c712-4f3e-8cb2-ad1ac523e09d"
      },
      "source": [
        "A.shape"
      ],
      "execution_count": 33,
      "outputs": [
        {
          "output_type": "execute_result",
          "data": {
            "text/plain": [
              "(44,)"
            ]
          },
          "metadata": {},
          "execution_count": 33
        }
      ]
    },
    {
      "cell_type": "code",
      "metadata": {
        "colab": {
          "base_uri": "https://localhost:8080/"
        },
        "id": "ymZkvxd92TDP",
        "outputId": "0fa548e8-5c98-4a0e-fe9c-e5da0dcb7cfc"
      },
      "source": [
        "A.reshape(10,-1)"
      ],
      "execution_count": 36,
      "outputs": [
        {
          "output_type": "execute_result",
          "data": {
            "text/plain": [
              "array([[-10. ,  -9.5,  -9. ,  -8.5],\n",
              "       [ -8. ,  -7.5,  -7. ,  -6.5],\n",
              "       [ -6. ,  -5.5,  -5. ,  -4.5],\n",
              "       [ -4. ,  -3.5,  -3. ,  -2.5],\n",
              "       [ -2. ,  -1.5,  -1. ,  -0.5],\n",
              "       [  0. ,   0.5,   1. ,   1.5],\n",
              "       [  2. ,   2.5,   3. ,   3.5],\n",
              "       [  4. ,   4.5,   5. ,   5.5],\n",
              "       [  6. ,   6.5,   7. ,   7.5],\n",
              "       [  8. ,   8.5,   9. ,   9.5]])"
            ]
          },
          "metadata": {},
          "execution_count": 36
        }
      ]
    },
    {
      "cell_type": "code",
      "metadata": {
        "colab": {
          "base_uri": "https://localhost:8080/"
        },
        "id": "hNfdqwpJ2oq_",
        "outputId": "fd1829f6-1509-4c8d-bdc5-513ec2b56470"
      },
      "source": [
        "A > 0\n"
      ],
      "execution_count": 37,
      "outputs": [
        {
          "output_type": "execute_result",
          "data": {
            "text/plain": [
              "array([False, False, False, False, False, False, False, False, False,\n",
              "       False, False, False, False, False, False, False, False, False,\n",
              "       False, False, False,  True,  True,  True,  True,  True,  True,\n",
              "        True,  True,  True,  True,  True,  True,  True,  True,  True,\n",
              "        True,  True,  True,  True])"
            ]
          },
          "metadata": {},
          "execution_count": 37
        }
      ]
    },
    {
      "cell_type": "code",
      "metadata": {
        "colab": {
          "base_uri": "https://localhost:8080/"
        },
        "id": "M3yaQy7mA26C",
        "outputId": "a06349f6-bd96-4ed4-c828-b8f3fb84b9f9"
      },
      "source": [
        "A[A>0]"
      ],
      "execution_count": 38,
      "outputs": [
        {
          "output_type": "execute_result",
          "data": {
            "text/plain": [
              "array([0.5, 1. , 1.5, 2. , 2.5, 3. , 3.5, 4. , 4.5, 5. , 5.5, 6. , 6.5,\n",
              "       7. , 7.5, 8. , 8.5, 9. , 9.5])"
            ]
          },
          "metadata": {},
          "execution_count": 38
        }
      ]
    },
    {
      "cell_type": "code",
      "metadata": {
        "colab": {
          "base_uri": "https://localhost:8080/"
        },
        "id": "XU4hNi8IA4SR",
        "outputId": "437069d8-fb1a-4753-ddd8-984416b6b682"
      },
      "source": [
        "A[np.bitwise_and(A>-5, A<4)]"
      ],
      "execution_count": 40,
      "outputs": [
        {
          "output_type": "execute_result",
          "data": {
            "text/plain": [
              "array([-4.5, -4. , -3.5, -3. , -2.5, -2. , -1.5, -1. , -0.5,  0. ,  0.5,\n",
              "        1. ,  1.5,  2. ,  2.5,  3. ,  3.5])"
            ]
          },
          "metadata": {},
          "execution_count": 40
        }
      ]
    },
    {
      "cell_type": "code",
      "metadata": {
        "id": "-Jcszy5bA41h"
      },
      "source": [
        ""
      ],
      "execution_count": null,
      "outputs": []
    }
  ]
}